{
  "nbformat": 4,
  "nbformat_minor": 0,
  "metadata": {
    "colab": {
      "provenance": []
    },
    "kernelspec": {
      "name": "python3",
      "display_name": "Python 3"
    },
    "language_info": {
      "name": "python"
    }
  },
  "cells": [
    {
      "cell_type": "code",
      "execution_count": null,
      "metadata": {
        "id": "F1CTgYbPa7sF"
      },
      "outputs": [],
      "source": [
        "import random\n",
        "\n",
        "def ai_genetic_number_guessing_game():\n",
        "    # Player selects a number\n",
        "    print(\"Think of a number between 1 and 100, and I (the AI) will try to guess it using a genetic algorithm.\")\n",
        "\n",
        "    # Initialize parameters\n",
        "    population_size = 10\n",
        "    mutation_rate = 0.1\n",
        "    generations = 100  # Max number of generations\n",
        "    low = 1\n",
        "    high = 100\n",
        "\n",
        "    # Function to calculate fitness: how close a guess is to the correct number\n",
        "    def fitness(guess, target):\n",
        "        return abs(guess - target)\n",
        "\n",
        "    # Function to perform crossover between two parents\n",
        "    def crossover(parent1, parent2):\n",
        "        return (parent1 + parent2) // 2\n",
        "\n",
        "    # Function to perform mutation\n",
        "    def mutate(guess):\n",
        "        if random.random() < mutation_rate:\n",
        "            return guess + random.randint(-2, 2)  # Small random change\n",
        "        return guess\n",
        "\n",
        "    # Initialize population with random guesses\n",
        "    population = [random.randint(low, high) for _ in range(population_size)]\n",
        "\n",
        "    attempts = 0\n",
        "\n",
        "    for generation in range(generations):\n",
        "        print(f\"Generation {generation + 1}: Population: {population}\")\n",
        "\n",
        "        # Get feedback from the user\n",
        "        target = int(input(\"Enter the number you're thinking of (hidden from AI): \"))\n",
        "\n",
        "        # Calculate fitness for each guess\n",
        "        fitness_scores = [fitness(guess, target) for guess in population]\n",
        "\n",
        "        # Check if the AI guessed the number\n",
        "        if 0 in fitness_scores:\n",
        "            correct_guess = population[fitness_scores.index(0)]\n",
        "            print(f\"AI guessed your number {correct_guess} in {attempts + 1} attempts!\")\n",
        "            return\n",
        "\n",
        "        # Select the two best guesses (elitism)\n",
        "        sorted_population = [x for _, x in sorted(zip(fitness_scores, population))]\n",
        "        parent1, parent2 = sorted_population[:2]\n",
        "\n",
        "        # Generate the next generation\n",
        "        new_population = []\n",
        "        for _ in range(population_size):\n",
        "            child = crossover(parent1, parent2)  # Crossover between the two best guesses\n",
        "            child = mutate(child)  # Mutate the child\n",
        "            new_population.append(max(min(child, high), low))  # Ensure it's within bounds\n",
        "\n",
        "        population = new_population\n",
        "        attempts += 1\n",
        "\n",
        "    print(\"AI failed to guess the number within the generation limit.\")\n",
        "\n",
        "# Run the genetic algorithm number guessing game\n",
        "ai_genetic_number_guessing_game()"
      ]
    }
  ]
}